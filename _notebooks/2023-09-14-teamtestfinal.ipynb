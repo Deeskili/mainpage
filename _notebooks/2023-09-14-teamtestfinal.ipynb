{
 "cells": [
  {
   "cell_type": "markdown",
   "metadata": {},
   "source": [
    "---\n",
    "toc: false\n",
    "comments: false\n",
    "layout: post\n",
    "title: Teamtest\n",
    "description: Teamtestinfo\n",
    "type: tangibles\n",
    "courses: { compsci: {week: 4} }\n",
    "---\n"
   ]
  },
  {
   "cell_type": "code",
   "execution_count": 1,
   "metadata": {},
   "outputs": [
    {
     "name": "stdout",
     "output_type": "stream",
     "text": [
      "hello world\n"
     ]
    }
   ],
   "source": [
    "print(\"hello world\") #outputs text"
   ]
  },
  {
   "cell_type": "code",
   "execution_count": 2,
   "metadata": {},
   "outputs": [
    {
     "name": "stdout",
     "output_type": "stream",
     "text": [
      "What is your name? Cayden\n",
      "hello, Cayden\n"
     ]
    }
   ],
   "source": [
    "var1 = input(\"What is your name? \") #asks user for an input \n",
    "print(\"hello, \" + var1) #prints the value the user inputs "
   ]
  },
  {
   "cell_type": "code",
   "execution_count": 5,
   "metadata": {},
   "outputs": [
    {
     "name": "stdout",
     "output_type": "stream",
     "text": [
      "['banana, cherry, chicken sandwich, chocolate ice cream, filet mignon']\n"
     ]
    }
   ],
   "source": [
    "Foods = [\"banana, cherry, chicken sandwich, chocolate ice cream, filet mignon\"]  #create list with multiple values using square brackets\n",
    "print(Foods) "
   ]
  },
  {
   "cell_type": "markdown",
   "metadata": {},
   "source": [
    "Program with an Iteration"
   ]
  },
  {
   "cell_type": "code",
   "execution_count": 11,
   "metadata": {},
   "outputs": [
    {
     "name": "stdout",
     "output_type": "stream",
     "text": [
      "1\n",
      "2\n",
      "3\n",
      "4\n",
      "5\n"
     ]
    }
   ],
   "source": [
    "i = 1 #give i a starting value \n",
    "while i < 6:  #when i is less than 6 do the following: \n",
    "  print(i) #output i \n",
    "  i += 1 #add 1 to i every loop\n",
    "  #loop until i reaches 6"
   ]
  },
  {
   "cell_type": "markdown",
   "metadata": {},
   "source": [
    "Mathematical Program"
   ]
  },
  {
   "cell_type": "code",
   "execution_count": 12,
   "metadata": {},
   "outputs": [
    {
     "name": "stdout",
     "output_type": "stream",
     "text": [
      "Hello, welcome to the calculator!\n",
      "Choose one number: 2\n",
      "Choose another number: 3\n",
      "Please enter an operator (+, -, *, /): +\n",
      "5\n"
     ]
    }
   ],
   "source": [
    "print(\"Hello, welcome to the calculator!\") #introduce user to calculator\n",
    "\n",
    "while True: #if user does not input any incorrect syntax: \n",
    "    try: #if true, try: \n",
    "        firstnum = int(input(\"Choose one number: \")) #ask user for 1 number \n",
    "        secondnum = int(input(\"Choose another number: \")) #ask user for another number \n",
    "        operation = input(\"Please enter an operator (+, -, *, /): \") #ask what operator user wants to use \n",
    "\n",
    "        if operation not in (\"+\", \"-\", \"*\", \"/\"): #if user inputs incorrect operator: \n",
    "            print(\"Please enter a valid operator (+, -, *, /).\")\n",
    "            continue  \n",
    "\n",
    "        if operation == \"+\": #based on what operator user inputs, \n",
    "            print(firstnum + secondnum) #add firstnum and secondnum \n",
    "        elif operation == \"-\": \n",
    "            print(firstnum - secondnum) #subtract firstnum and secondnum\n",
    "        elif operation == \"/\":\n",
    "            if secondnum == 0: \n",
    "                print(\"Division by zero is not allowed.\") #output error text if dividing by 0 \n",
    "            else:\n",
    "                print(firstnum / secondnum) #divide firstnum and secondnum \n",
    "        elif operation == \"*\":\n",
    "            print(firstnum * secondnum) #multiply firstnum and secondnum \n",
    "        break  \n",
    "\n",
    "    except ValueError: #if user does not input correct syntax for firstnum and secondnum \n",
    "        print(\"Please enter valid numbers.\")"
   ]
  },
  {
   "cell_type": "markdown",
   "metadata": {},
   "source": [
    "Conditional Program"
   ]
  },
  {
   "cell_type": "code",
   "execution_count": null,
   "metadata": {},
   "outputs": [],
   "source": [
    "var1 = input(\"Is Mr. Mort the best teacher ever?\") #asks user for an input\n",
    "\n",
    "if var1 == \"yes\": #if user inputs yes \n",
    "    print(\"You are correct.\") #output: \n",
    "elif var1 == \"no\":#if user says no\n",
    "    print(\"You are wrong.\") #output: \n",
    "else: #if user inputs anything else: \n",
    "    print(\"Please enter the correct syntax\")"
   ]
  },
  {
   "cell_type": "markdown",
   "metadata": {},
   "source": [
    "Tester Function"
   ]
  },
  {
   "cell_type": "code",
   "execution_count": 13,
   "metadata": {},
   "outputs": [
    {
     "name": "stdout",
     "output_type": "stream",
     "text": [
      "Please input the correct syntax\n"
     ]
    }
   ],
   "source": [
    "var1 = \"donk\" #preset var1 a value to test if function works \n",
    "\n",
    "if var1 == \"yes\":\n",
    "    print(\"You are correct.\")\n",
    "elif var1 == \"no\":\n",
    "    print(\"You are wrong.\")\n",
    "else: \n",
    "    print(\"Please input the correct syntax\")"
   ]
  },
  {
   "cell_type": "markdown",
   "metadata": {},
   "source": [
    "Chatgpt Improved Code "
   ]
  },
  {
   "cell_type": "code",
   "execution_count": 8,
   "metadata": {},
   "outputs": [
    {
     "name": "stdout",
     "output_type": "stream",
     "text": [
      "Is Mr. Mort the best teacher ever?No... \n",
      "Please enter a valid response (yes or no).\n"
     ]
    }
   ],
   "source": [
    "# Improved chatgpt code:  \n",
    "# Prompt the user for input and strip any leading/trailing whitespace\n",
    "var1 = input(\"Is Mr. Mort the best teacher ever?\").strip().lower()\n",
    "\n",
    "# Use a dictionary to store the responses\n",
    "responses = {\n",
    "    \"yes\": \"You are correct.\",\n",
    "    \"no\": \"You are wrong.\",\n",
    "}\n",
    "\n",
    "# Check if the user's input is a valid key in the responses dictionary\n",
    "if var1 in responses:\n",
    "    print(responses[var1])\n",
    "else:\n",
    "    print(\"Please enter a valid response (yes or no).\")\n"
   ]
  },
  {
   "cell_type": "markdown",
   "metadata": {},
   "source": [
    "\n",
    "Chatgpt improvements: <br>\n",
    "1. I've added .strip().lower() to the input to remove any leading/trailing whitespace and convert the input to lowercase. This allows for case-insensitive matching and eliminates issues with extra spaces.<br>\n",
    "2. I've used a dictionary called responses to store the possible responses based on the user's input. This makes it easy to add more responses in the future if needed.<br>\n",
    "3. The code now checks if the user's input is a valid key in the responses dictionary and prints the corresponding response. If the input is not valid (neither \"yes\" nor \"no\"), it asks the user to enter a valid response.<br>\n"
   ]
  },
  {
   "cell_type": "code",
   "execution_count": null,
   "metadata": {},
   "outputs": [],
   "source": []
  }
 ],
 "metadata": {
  "kernelspec": {
   "display_name": "Python 3 (ipykernel)",
   "language": "python",
   "name": "python3"
  },
  "language_info": {
   "codemirror_mode": {
    "name": "ipython",
    "version": 3
   },
   "file_extension": ".py",
   "mimetype": "text/x-python",
   "name": "python",
   "nbconvert_exporter": "python",
   "pygments_lexer": "ipython3",
   "version": "3.11.4"
  }
 },
 "nbformat": 4,
 "nbformat_minor": 2
}
