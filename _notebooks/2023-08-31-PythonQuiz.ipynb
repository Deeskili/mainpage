{
 "cells": [
  {
   "cell_type": "markdown",
   "metadata": {},
   "source": [
    "---\n",
    "toc: false\n",
    "comments: false\n",
    "layout: post\n",
    "title: Python Quiz!\n",
    "description: Here is a simple quiz on python syntax! \n",
    "type: tangibles\n",
    "courses: { compsci: {week: 2} }\n",
    "---"
   ]
  },
  {
   "cell_type": "markdown",
   "metadata": {},
   "source": [
    "[Python Quiz Using Replit](https://replit.com/@CaydenShi/PythonQuiz#main.py)\n"
   ]
  },
  {
   "cell_type": "code",
   "execution_count": 1,
   "metadata": {},
   "outputs": [
    {
     "name": "stdout",
     "output_type": "stream",
     "text": [
      "Question 1: What is the correct way to define a variable in Python?\n",
      "a) var = 5\n",
      "b) variable = 5\n",
      "c) 5 = variable\n",
      "Incorrect.\n",
      "\n",
      "Question 2: How do you indicate a single-line comment in Python?\n",
      "a) // This is a comment\n",
      "b) # This is a comment\n",
      "c) /* This is a comment */\n",
      "Correct!\n",
      "\n",
      "Question 3: What symbol is used for string concatenation in Python?\n",
      "a) +\n",
      "b) *\n",
      "c) &\n",
      "Correct!\n",
      "\n",
      "Quiz complete! You got 2 out of 3 questions correct.\n"
     ]
    }
   ],
   "source": [
    "score = 0\n",
    "\n",
    "# Question 1\n",
    "print(\"Question 1: What is the correct way to define a variable in Python?\")\n",
    "print(\"a) var = 5\")\n",
    "print(\"b) variable = 5\")\n",
    "print(\"c) 5 = variable\")\n",
    "answer1 = input(\"Enter your choice: \")\n",
    "\n",
    "if answer1.lower() == \"b\":\n",
    "    print(\"Correct!\")\n",
    "    score += 1\n",
    "else:\n",
    "    print(\"Incorrect.\")\n",
    "\n",
    "# Question 2\n",
    "print(\"\\nQuestion 2: How do you indicate a single-line comment in Python?\")\n",
    "print(\"a) // This is a comment\")\n",
    "print(\"b) # This is a comment\")\n",
    "print(\"c) /* This is a comment */\")\n",
    "answer2 = input(\"Enter your choice: \")\n",
    "\n",
    "if answer2.lower() == \"b\":\n",
    "    print(\"Correct!\")\n",
    "    score += 1\n",
    "else:\n",
    "    print(\"Incorrect.\")\n",
    "\n",
    "# Question 3\n",
    "print(\"\\nQuestion 3: What symbol is used for string concatenation in Python?\")\n",
    "print(\"a) +\")\n",
    "print(\"b) *\")\n",
    "print(\"c) &\")\n",
    "answer3 = input(\"Enter your choice: \")\n",
    "\n",
    "if answer3.lower() == \"a\":\n",
    "    print(\"Correct!\")\n",
    "    score += 1\n",
    "else:\n",
    "    print(\"Incorrect.\")\n",
    "\n",
    "print(\"\\nQuiz complete! You got\", score, \"out of 3 questions correct.\")\n"
   ]
  },
  {
   "cell_type": "markdown",
   "metadata": {},
   "source": [
    "I fixed the code using chat gpt, it found 2 errors: \n",
    "\n",
    "\"I've fixed the following issues:\n",
    "\n",
    "In Question 2, I added a missing colon : in the for loop.\n",
    "In Question 3, I added a type conversion to int(num2) to avoid a TypeError when trying to add a string to an integer.\""
   ]
  }
 ],
 "metadata": {
  "kernelspec": {
   "display_name": "Python 3",
   "language": "python",
   "name": "python3"
  },
  "language_info": {
   "codemirror_mode": {
    "name": "ipython",
    "version": 3
   },
   "file_extension": ".py",
   "mimetype": "text/x-python",
   "name": "python",
   "nbconvert_exporter": "python",
   "pygments_lexer": "ipython3",
   "version": "3.11.4"
  },
  "orig_nbformat": 4
 },
 "nbformat": 4,
 "nbformat_minor": 2
}
