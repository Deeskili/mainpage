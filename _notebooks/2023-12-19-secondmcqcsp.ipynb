{
 "cells": [
  {
   "cell_type": "markdown",
   "metadata": {},
   "source": [
    "---\n",
    "toc: false\n",
    "comments: false\n",
    "layout: post\n",
    "title: Second MCQ CSP \n",
    "description: Blog for Second MCQ 12-19 \n",
    "type: tangibles\n",
    "courses: { compsci: {week: 12} }\n",
    "---\n"
   ]
  },
  {
   "cell_type": "markdown",
   "metadata": {},
   "source": [
    "Overall Grade: 64/67 ~ 96%"
   ]
  },
  {
   "cell_type": "markdown",
   "metadata": {},
   "source": [
    "A color in a computing application is represented by an RGB triplet that describes the amount of red, green, and blue, respectively, used to create the desired color. A selection of colors and their corresponding RGB triplets are shown in the following table. Each value is represented in decimal (base 10).\n",
    "\n",
    "Color Name\tRGB Triplet\n",
    "indigo\t (75,   0, 130)\n",
    "ivory\t(255, 255, 240)\n",
    "light pink\t(255, 182, 193)​\n",
    "light yellow\t(255, 255, 224)\n",
    "magenta\t(255,   0, 255)\n",
    "neutral gray\t(127, 127, 112)\n",
    "pale yellow\t(255, 255, 160)\n",
    "vivid yellow\t(255, 255,  14)\n",
    "According to information in the table, what color is represented by the binary RGB triplet (11111111, 11111111, 11110000) ?\n",
    "A\n",
    "Ivory\n",
    "B\n",
    "Light yellow\n",
    "C\n",
    "Neutral gray\n",
    "D\n",
    "Vivid yellow\n",
    "Answer B\n",
    "\n",
    "Incorrect. The binary RGB triplet for light yellow is (11111111, 11111111, 11100000).<br>\n",
    "\n",
    "**I need to touch up on my binary skills**"
   ]
  },
  {
   "cell_type": "markdown",
   "metadata": {},
   "source": [
    "Consider the two programs below.<br>\n",
    "\n",
    "The figure presents two programs, labeled Program A and Program B, each with two blocks of code that consist of 4 lines. Throughout the second block of code in each program there are nested blocks of code, as follows. Program A. Line 1: [begin block] i ← 1 [end block] [Begin Block] Line 2: REPEAT UNTIL [begin block] i is greater than 10 [end block] [begin block] Line 3: [begin block] DISPLAY [begin block] i [end block] [end block] Line 4: [begin block] i ← i + 1 [end block] [end block] [End Block] Program B. Line 1: [begin block] i ← 0 [end block] [Begin Block] Line 2: REPEAT UNTIL [begin block] i ≥ 10 [end block] [begin block] Line 3:  [begin block] i ← i + 1 [end block] Line 4: [begin block] DISPLAY [begin block] i [end block] [end block] [End Block]\n",
    "Which of the following best compares the values displayed by programs A and B?<br>\n",
    "A<br>\n",
    "Program A and program B display identical values in the same order.<br>\n",
    "B<br>\n",
    "Program A and program B display the same values in different orders.<br>\n",
    "C<br>\n",
    "Program A and program B display the same number of values, but the values differ.<br>\n",
    "D<br>\n",
    "Program B displays one more value than program A.<br>\n",
    "Answer C<br>\n",
    "\n",
    "Incorrect. While the two programs initialize i to different values, the same values are printed inside the loop because program A prints i and then increments it and program B <br>increments i and then prints it.<br>\n",
    "\n",
    "**I didn't realize that the first one first printed I then incremented. I thought both incremented then printed**"
   ]
  },
  {
   "cell_type": "markdown",
   "metadata": {},
   "source": [
    "A flowchart is a way to visually represent an algorithm. The flowchart below is used by an application to set the Boolean variable available to true under certain conditions. The flowchart uses the Boolean variable weekday and the integer variable miles.<br>\n",
    "\n",
    "Block\tExplanation<br>\n",
    "Oval\tThe start or end of the algorithm<br>\n",
    "Diamond\tA conditional or decision step, where execution proceeds to the side labeled true if the condition is true and to the side labeled false otherwise<br>\n",
    "Rectangle\tOne or more processing steps, such as a statement that assigns a value to a variable<br>\n",
    "The figure presents a flow chart of an algorithm. Beginning at the top of the flow chart, the algorithm begins with a step labeled Start, which flows into a conditional step labeled weekday = true. If the condition labeled weekday = true is true, the process flows into another conditional step labeled miles are less than 20. If the condition labeled weekday = true is false, the process flows into a processing step labeled available ← false. If the conditional step labeled miles are less than 20 is true, the process flows into a processing step labeled available ← true. If the conditional step labeled miles are less than 20 is false the process flows into the processing step available ← false. Both processing steps, available ← true and available ← false flow to the end of the algorithm.<br>\n",
    "Which of the following statements is equivalent to the algorithm in the flowchart?<br>\n",
    "A<br>\n",
    "The figure presents a block of code that consists of 1 line. Throughout the code there are nested blocks of code. Line 1: [begin block] available ← [Begin Block] [begin block] weekday [end block] OR [begin block] miles are less than 20 [end block] [End Block] [end block]<br>\n",
    "B<br>\n",
    "The figure presents a block of code that consists of 1 line. Throughout the code there are nested blocks of code. Line 1: [begin block] available ← [Begin Block] [begin block] weekday [end block] AND [begin block] miles are greater than or equal to 20 [end block] [End Block] [end block]<br>\n",
    "C<br>\n",
    " The figure presents a block of code that consists of 1 line. Throughout the code there are nested blocks of code. Line 1: [begin block] available ← [Begin Block] [begin block] weekday[end block] OR [begin block] miles are greater than or equal to 20 [end block] [End Block] [end block]<br>\n",
    "D<br>\n",
    "The figure presents a block of code that consists of 1 line. Throughout the code there are nested blocks of code. Line 1: [begin block] available ← [Begin Block] [begin block] weekday [end block] AND [begin block] miles are less than 20 [end block] [End Block] [end block] <br>\n",
    "Answer B<br>\n",
    "\n",
    "Incorrect. This expression would be equivalent to an algorithm that sets available to true whenever weekday is true and miles is at least 20. The algorithm in the flowchart requires both conditions to be true in order to set available to true.<br>\n",
    "\n",
    "**I read the question wrong. I thought the second diamond said >= 20, not less than. I was probably just rushing through, I will remember to look at the questions more thoroughly**"
   ]
  },
  {
   "cell_type": "markdown",
   "metadata": {},
   "source": [
    "**Overall, I had to study quite a bit to get to where I am in CSP right now. However, I am pretty happy with my score.** <br> \n",
    "\n",
    "During the test, I had a few main topics that I needed to study. <br>\n",
    "\n",
    "First, I looked over what public key encryption was. I heard of the term before, but didn't know what it actually meant. Through my research, I learned that it is a pair of mathematically related keys, including a public and private key (one for encryption, one for decryption). The public key is open sent out, but the private key is kept hidden and is used to decrypt the public key. This method provides a secure and safe method of data transmission. <br>\n",
    "\n",
    "Next, I touched up on my binary skills. I remembered a bit of binary from the last team teach in trimester one, but I'm going to be honest, I completely guessed on the binary question. To fix my mistake, I studied binary through \"Binary - The SIMPLEST explanation of Counting and Converting Binary numbers\" by \"practical networking\" on youtube, which really helped me. Now, when I come across another binary problem, I won't have the same problem of not knowing what to do. <br>\n",
    "\n",
    "Overall, with the help of the team teaches, as well as my experience from the last mcq, I had a lot better and easier time going through the problems. I knew how to better deal with certain types of problems, how to strategically think about some problems to make my life easier, etc. On this test, I had no problem doing the data analysis, \"what code segment fits\", robot questions, as well as many others. I was really happy, as the concepts that I really didn't know anything about when I was taking the first mcq were all answered by the team teach. I understood basically almost all the concepts (digital divide, bits, ip, etc.) <br>\n",
    "\n",
    "To improve further on my mcq test taking, I still need to touch up on my binary skills, as well as just being more thorough with my question reading. I sometimes rush through questions, and I don't pay enough attention to realize that I read the question wrong."
   ]
  }
 ],
 "metadata": {
  "language_info": {
   "name": "python"
  }
 },
 "nbformat": 4,
 "nbformat_minor": 2
}
