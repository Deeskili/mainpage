{
 "cells": [
  {
   "cell_type": "markdown",
   "metadata": {},
   "source": [
    "---\n",
    "toc: false\n",
    "comments: false\n",
    "layout: post\n",
    "title: Finished Backend Code\n",
    "description: This works!\n",
    "type: tangibles\n",
    "courses: { compsci: {week: 11} }\n",
    "---"
   ]
  },
  {
   "cell_type": "code",
   "execution_count": null,
   "metadata": {},
   "outputs": [],
   "source": [
    "from flask import Flask, jsonify, request\n",
    "from flask_sqlalchemy import SQLAlchemy\n",
    "from flask_restful import Resource, Api\n",
    "from flask_cors import CORS\n",
    "\n",
    "app = Flask(__name__)\n",
    "CORS(app)\n",
    "app.config['SQLALCHEMY_DATABASE_URI'] = 'sqlite:///recipes.db'  # SQLite database file named recipes.db\n",
    "db = SQLAlchemy(app)\n",
    "api = Api(app)\n",
    "\n",
    "class Recipe(db.Model):\n",
    "    id = db.Column(db.Integer, primary_key=True)\n",
    "    title = db.Column(db.String(128), unique=True, nullable=False)\n",
    "    ingredients = db.Column(db.String(256), nullable=False)\n",
    "    instructions = db.Column(db.String(256), nullable=True)\n",
    "\n",
    "    def serialize(self):\n",
    "        return {\n",
    "            \"id\": self.id,\n",
    "            \"title\": self.title,\n",
    "            \"ingredients\": self.ingredients,\n",
    "            \"instructions\": self.instructions\n",
    "        }\n",
    "\n",
    "class RecipeListResource(Resource):\n",
    "    def get(self):\n",
    "        recipes = Recipe.query.all()\n",
    "        return jsonify([recipe.serialize() for recipe in recipes])\n",
    "    \n",
    "    def post(self):\n",
    "        data = request.get_json()\n",
    "        new_recipe = Recipe(title=data['title'], ingredients=data['ingredients'], instructions=data['instructions'])\n",
    "        db.session.add(new_recipe)\n",
    "        db.session.commit()\n",
    "        return jsonify(new_recipe.serialize())\n",
    "\n",
    "class RecipeResource(Resource):\n",
    "    def delete(self, recipe_id):\n",
    "        recipe = Recipe.query.get_or_404(recipe_id)\n",
    "        db.session.delete(recipe)\n",
    "        db.session.commit()\n",
    "        return '', 204\n",
    "\n",
    "api.add_resource(RecipeListResource, '/recipes')\n",
    "api.add_resource(RecipeResource, '/recipes/<int:recipe_id>')\n",
    "\n",
    "if __name__ == '__main__':\n",
    "    with app.app_context():  # Adding an application context here\n",
    "        db.create_all()  # Creates the database tables defined by the model before running the app\n",
    "    app.run(debug=True)\n"
   ]
  }
 ],
 "metadata": {
  "language_info": {
   "name": "python"
  }
 },
 "nbformat": 4,
 "nbformat_minor": 2
}
